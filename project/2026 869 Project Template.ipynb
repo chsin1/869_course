{
  "metadata": {
    "kernelspec": {
      "language": "python",
      "display_name": "Python 3",
      "name": "python3"
    },
    "language_info": {
      "name": "python",
      "version": "3.11.11",
      "mimetype": "text/x-python",
      "codemirror_mode": {
        "name": "ipython",
        "version": 3
      },
      "pygments_lexer": "ipython3",
      "nbconvert_exporter": "python",
      "file_extension": ".py"
    },
    "kaggle": {
      "accelerator": "none",
      "dataSources": [
        {
          "sourceId": 100411,
          "databundleVersionId": 12064814,
          "sourceType": "competition"
        }
      ],
      "dockerImageVersionId": 31012,
      "isInternetEnabled": true,
      "language": "python",
      "sourceType": "notebook",
      "isGpuEnabled": false
    },
    "colab": {
      "name": "Template Notebook",
      "provenance": [],
      "include_colab_link": true
    }
  },
  "nbformat_minor": 0,
  "nbformat": 4,
  "cells": [
    {
      "cell_type": "markdown",
      "metadata": {
        "id": "view-in-github",
        "colab_type": "text"
      },
      "source": [
        "<a href=\"https://colab.research.google.com/github/stepthom/869_course/blob/main/2026%20869%20Project%20Template.ipynb\" target=\"_parent\"><img src=\"https://colab.research.google.com/assets/colab-badge.svg\" alt=\"Open In Colab\"/></a>"
      ]
    },
    {
      "cell_type": "markdown",
      "source": [
        "# MMAI 869 Project: Example Notebook\n",
        "\n",
        "*Updated May 1, 2025*\n",
        "\n",
        "This notebook serves as a template for the Team Project. Teams can use this notebook as a starting point, and update it successively with new ideas and techniques to improve their model results.\n",
        "\n",
        "Note that is not required to use this template. Teams may also alter this template in any way they see fit."
      ],
      "metadata": {
        "id": "T_JqF4nhnHAK"
      }
    },
    {
      "cell_type": "markdown",
      "source": [
        "# Preliminaries: Inspect and Set up environment\n",
        "\n",
        "No action is required on your part in this section. These cells print out helpful information about the environment, just in case."
      ],
      "metadata": {
        "id": "5h8kN7e4nHAM"
      }
    },
    {
      "cell_type": "code",
      "source": [
        "import pandas as pd\n",
        "import matplotlib.pyplot as plt\n",
        "import numpy as np\n",
        "import seaborn as sns\n",
        "\n",
        "from sklearn.preprocessing import LabelEncoder\n",
        "from sklearn.model_selection import train_test_split, cross_val_score\n",
        "from sklearn.linear_model import LogisticRegression\n",
        "from sklearn.neighbors import KNeighborsClassifier\n",
        "from sklearn.tree import DecisionTreeClassifier\n",
        "from sklearn.ensemble import RandomForestClassifier,ExtraTreesClassifier\n",
        "from lightgbm import LGBMClassifier\n",
        "from sklearn.metrics import accuracy_score, classification_report"
      ],
      "metadata": {
        "_uuid": "8f2839f25d086af736a60e9eeb907d3b93b6e0e5",
        "_cell_guid": "b1076dfc-b9ad-4769-8c92-a6c4dae69d19",
        "trusted": true,
        "execution": {
          "iopub.status.busy": "2025-04-29T15:33:14.024124Z",
          "iopub.execute_input": "2025-04-29T15:33:14.024385Z",
          "iopub.status.idle": "2025-04-29T15:33:23.963717Z",
          "shell.execute_reply.started": "2025-04-29T15:33:14.024359Z",
          "shell.execute_reply": "2025-04-29T15:33:23.962752Z"
        },
        "id": "iFGZKq7dnHAN"
      },
      "outputs": [],
      "execution_count": null
    },
    {
      "cell_type": "code",
      "source": [
        "import datetime\n",
        "print(datetime.datetime.now())"
      ],
      "metadata": {
        "trusted": true,
        "execution": {
          "iopub.status.busy": "2025-04-29T15:35:25.734381Z",
          "iopub.execute_input": "2025-04-29T15:35:25.734713Z",
          "iopub.status.idle": "2025-04-29T15:35:25.740012Z",
          "shell.execute_reply.started": "2025-04-29T15:35:25.734678Z",
          "shell.execute_reply": "2025-04-29T15:35:25.739Z"
        },
        "id": "A-bJSWOTnHAO"
      },
      "outputs": [],
      "execution_count": null
    },
    {
      "cell_type": "code",
      "source": [
        "!python --version"
      ],
      "metadata": {
        "trusted": true,
        "execution": {
          "iopub.status.busy": "2025-04-29T15:34:57.648204Z",
          "iopub.execute_input": "2025-04-29T15:34:57.64854Z",
          "iopub.status.idle": "2025-04-29T15:34:57.787301Z",
          "shell.execute_reply.started": "2025-04-29T15:34:57.648514Z",
          "shell.execute_reply": "2025-04-29T15:34:57.786221Z"
        },
        "id": "M8P3CPDmnHAP"
      },
      "outputs": [],
      "execution_count": null
    },
    {
      "cell_type": "code",
      "source": [
        "# TODO: if you need to install any package, do so here. For example:\n",
        "#pip install unidecode"
      ],
      "metadata": {
        "trusted": true,
        "id": "uGc85VOCnHAP"
      },
      "outputs": [],
      "execution_count": null
    },
    {
      "cell_type": "markdown",
      "source": [
        "# 0: Data Loading and Inspection"
      ],
      "metadata": {
        "id": "c5EsSXF-nHAQ"
      }
    },
    {
      "cell_type": "code",
      "source": [
        "df = pd.read_csv(\"https://raw.githubusercontent.com/stepthom/869_course/refs/heads/main/data/spaceship_titanic_train.csv\")"
      ],
      "metadata": {
        "trusted": true,
        "execution": {
          "iopub.status.busy": "2025-04-29T15:41:49.690048Z",
          "iopub.execute_input": "2025-04-29T15:41:49.690355Z",
          "iopub.status.idle": "2025-04-29T15:41:50.067303Z",
          "shell.execute_reply.started": "2025-04-29T15:41:49.690336Z",
          "shell.execute_reply": "2025-04-29T15:41:50.066321Z"
        },
        "id": "t9bKTR3fnHAQ"
      },
      "outputs": [],
      "execution_count": null
    },
    {
      "cell_type": "code",
      "source": [
        "df.info()"
      ],
      "metadata": {
        "trusted": true,
        "execution": {
          "iopub.status.busy": "2025-04-29T15:42:07.322018Z",
          "iopub.execute_input": "2025-04-29T15:42:07.322312Z",
          "iopub.status.idle": "2025-04-29T15:42:07.360667Z",
          "shell.execute_reply.started": "2025-04-29T15:42:07.322285Z",
          "shell.execute_reply": "2025-04-29T15:42:07.359733Z"
        },
        "id": "_4JAlUN-nHAR"
      },
      "outputs": [],
      "execution_count": null
    },
    {
      "cell_type": "code",
      "source": [
        "# Let's print some descriptive statistics for all the numeric features.\n",
        "\n",
        "df.describe().T"
      ],
      "metadata": {
        "trusted": true,
        "execution": {
          "iopub.status.busy": "2025-04-29T15:42:47.74599Z",
          "iopub.execute_input": "2025-04-29T15:42:47.746294Z",
          "iopub.status.idle": "2025-04-29T15:42:47.778172Z",
          "shell.execute_reply.started": "2025-04-29T15:42:47.746272Z",
          "shell.execute_reply": "2025-04-29T15:42:47.777304Z"
        },
        "id": "qH-m99m1nHAS"
      },
      "outputs": [],
      "execution_count": null
    },
    {
      "cell_type": "code",
      "source": [
        "# Let's print some descriptive statistics for all the numeric features.\n",
        "\n",
        "df.describe().T# What is the number of unique values in all the categorical features? And what is\n",
        "# the value with the highest frequency?\n",
        "\n",
        "df.describe(include=object).T"
      ],
      "metadata": {
        "trusted": true,
        "execution": {
          "iopub.status.busy": "2025-04-29T15:42:25.759652Z",
          "iopub.execute_input": "2025-04-29T15:42:25.759973Z",
          "iopub.status.idle": "2025-04-29T15:42:25.811106Z",
          "shell.execute_reply.started": "2025-04-29T15:42:25.759948Z",
          "shell.execute_reply": "2025-04-29T15:42:25.810238Z"
        },
        "id": "y6t3WYxWnHAT"
      },
      "outputs": [],
      "execution_count": null
    },
    {
      "cell_type": "code",
      "source": [
        "# How much missing data is in each feature?\n",
        "\n",
        "df.isna().sum()"
      ],
      "metadata": {
        "trusted": true,
        "execution": {
          "iopub.status.busy": "2025-04-29T15:46:20.628514Z",
          "iopub.execute_input": "2025-04-29T15:46:20.62892Z",
          "iopub.status.idle": "2025-04-29T15:46:20.644894Z",
          "shell.execute_reply.started": "2025-04-29T15:46:20.628893Z",
          "shell.execute_reply": "2025-04-29T15:46:20.644036Z"
        },
        "id": "Ds-GenRSnHAT"
      },
      "outputs": [],
      "execution_count": null
    },
    {
      "cell_type": "code",
      "source": [
        "# For convienience, let's save the names of all numeric features to a list,\n",
        "# and the names of all categorical features to another list.\n",
        "\n",
        "numeric_features = ['Age', 'RoomService', 'FoodCourt', 'ShoppingMall', 'Spa', 'VRDeck']\n",
        "\n",
        "categorical_features = ['HomePlanet', 'VIP', 'CryoSleep', 'Destination', 'Cabin', 'Name']"
      ],
      "metadata": {
        "trusted": true,
        "execution": {
          "iopub.status.busy": "2025-04-29T15:53:25.881747Z",
          "iopub.execute_input": "2025-04-29T15:53:25.882479Z",
          "iopub.status.idle": "2025-04-29T15:53:25.886768Z",
          "shell.execute_reply.started": "2025-04-29T15:53:25.88243Z",
          "shell.execute_reply": "2025-04-29T15:53:25.885955Z"
        },
        "id": "x6osteVLnHAU"
      },
      "outputs": [],
      "execution_count": null
    },
    {
      "cell_type": "code",
      "source": [
        "# TODO: Can add more EDA here, as desired"
      ],
      "metadata": {
        "trusted": true,
        "execution": {
          "iopub.status.busy": "2025-04-29T15:49:37.060413Z",
          "iopub.execute_input": "2025-04-29T15:49:37.060767Z",
          "iopub.status.idle": "2025-04-29T15:49:37.064736Z",
          "shell.execute_reply.started": "2025-04-29T15:49:37.060743Z",
          "shell.execute_reply": "2025-04-29T15:49:37.063821Z"
        },
        "id": "sff9tw3NnHAU"
      },
      "outputs": [],
      "execution_count": null
    },
    {
      "cell_type": "markdown",
      "source": [
        "# 1: Pipeline 1: Simple Feature Engineering and then Decision Tree"
      ],
      "metadata": {
        "id": "C6W9v7svnHAV"
      }
    },
    {
      "cell_type": "code",
      "source": [
        "from sklearn.tree import DecisionTreeClassifier\n",
        "from sklearn.impute import SimpleImputer\n",
        "from sklearn.model_selection import cross_validate\n",
        "from sklearn.model_selection import train_test_split"
      ],
      "metadata": {
        "trusted": true,
        "execution": {
          "iopub.status.busy": "2025-04-29T15:52:01.468652Z",
          "iopub.execute_input": "2025-04-29T15:52:01.468978Z",
          "iopub.status.idle": "2025-04-29T15:52:01.487398Z",
          "shell.execute_reply.started": "2025-04-29T15:52:01.468945Z",
          "shell.execute_reply": "2025-04-29T15:52:01.486418Z"
        },
        "id": "_-SSovOHnHAV"
      },
      "outputs": [],
      "execution_count": null
    },
    {
      "cell_type": "code",
      "source": [
        "# Scikit-learn needs us to put the features in one dataframe, and the label in another.\n",
        "# It's tradition to name these variables X and y, but it doesn't really matter.\n",
        "\n",
        "X = df.drop(['PassengerId', 'Transported'], axis=1)\n",
        "y = df['Transported']"
      ],
      "metadata": {
        "trusted": true,
        "execution": {
          "iopub.status.busy": "2025-04-29T16:05:54.011414Z",
          "iopub.execute_input": "2025-04-29T16:05:54.012163Z",
          "iopub.status.idle": "2025-04-29T16:05:54.018336Z",
          "shell.execute_reply.started": "2025-04-29T16:05:54.012134Z",
          "shell.execute_reply": "2025-04-29T16:05:54.017386Z"
        },
        "id": "NrgbYV13nHAV"
      },
      "outputs": [],
      "execution_count": null
    },
    {
      "cell_type": "markdown",
      "source": [
        "## 1.1: Cleaning and FE"
      ],
      "metadata": {
        "id": "pF8cgozgnHAV"
      }
    },
    {
      "cell_type": "code",
      "source": [
        "# We know this dataset has categorical features, and we also know that DTs don't\n",
        "# allow categorical features. For now, we'll just remove (i.e., drop) these\n",
        "# features.\n",
        "#\n",
        "# TODO: do something better, like encode them (as discussed in the course)\n",
        "\n",
        "X = X.drop(categorical_features, axis=1, errors='ignore')"
      ],
      "metadata": {
        "trusted": true,
        "execution": {
          "iopub.status.busy": "2025-04-29T16:05:56.32999Z",
          "iopub.execute_input": "2025-04-29T16:05:56.330259Z",
          "iopub.status.idle": "2025-04-29T16:05:56.335726Z",
          "shell.execute_reply.started": "2025-04-29T16:05:56.330241Z",
          "shell.execute_reply": "2025-04-29T16:05:56.334793Z"
        },
        "id": "Sl4aB8vMnHAW"
      },
      "outputs": [],
      "execution_count": null
    },
    {
      "cell_type": "code",
      "source": [
        "# We know this dataset has some missing data, and we also know that DTs don't\n",
        "# allow missing data. For now, we'll just do simple imputation.\n",
        "#\n",
        "# TODO: consider doing something different/better, like impute them (as\n",
        "# discussed in class)\n",
        "\n",
        "imp = SimpleImputer()\n",
        "imp.fit(X)\n",
        "X = imp.transform(X)"
      ],
      "metadata": {
        "trusted": true,
        "execution": {
          "iopub.status.busy": "2025-04-29T16:05:56.795275Z",
          "iopub.execute_input": "2025-04-29T16:05:56.795625Z",
          "iopub.status.idle": "2025-04-29T16:05:56.806417Z",
          "shell.execute_reply.started": "2025-04-29T16:05:56.795602Z",
          "shell.execute_reply": "2025-04-29T16:05:56.805528Z"
        },
        "id": "_783qL5CnHAX"
      },
      "outputs": [],
      "execution_count": null
    },
    {
      "cell_type": "code",
      "source": [
        "# TODO: Add more data cleaning and FE, as desired."
      ],
      "metadata": {
        "trusted": true,
        "execution": {
          "iopub.status.busy": "2025-04-29T16:05:58.715323Z",
          "iopub.execute_input": "2025-04-29T16:05:58.716309Z",
          "iopub.status.idle": "2025-04-29T16:05:58.720475Z",
          "shell.execute_reply.started": "2025-04-29T16:05:58.716276Z",
          "shell.execute_reply": "2025-04-29T16:05:58.719502Z"
        },
        "id": "Ufet6ReVnHAX"
      },
      "outputs": [],
      "execution_count": null
    },
    {
      "cell_type": "markdown",
      "source": [
        "## 1.2: Model creation, hyperparameter tuning, and validation"
      ],
      "metadata": {
        "id": "MQGrMwxMnHAX"
      }
    },
    {
      "cell_type": "code",
      "source": [
        "# Let's create a very simple DecisionTree.\n",
        "\n",
        "clf = DecisionTreeClassifier(max_depth=3, random_state=0)\n",
        "\n",
        "# TODO: Can try different algorithms"
      ],
      "metadata": {
        "trusted": true,
        "execution": {
          "iopub.status.busy": "2025-04-29T16:05:59.465096Z",
          "iopub.execute_input": "2025-04-29T16:05:59.465932Z",
          "iopub.status.idle": "2025-04-29T16:05:59.469894Z",
          "shell.execute_reply.started": "2025-04-29T16:05:59.465903Z",
          "shell.execute_reply": "2025-04-29T16:05:59.468893Z"
        },
        "id": "VVxTUQqmnHAX"
      },
      "outputs": [],
      "execution_count": null
    },
    {
      "cell_type": "code",
      "source": [
        "# We use cross_validate to perform K-fold cross validation for us.\n",
        "cv_results = cross_validate(clf, X, y, cv=5, scoring=\"f1_macro\")\n",
        "\n",
        "# TODO: can also add hyperparameter tuning to explore different values of the algorithms\n",
        "# hyperparameters, and see how much those affect results.\n",
        "# See GridSearchCV or RandomizedSearchCV."
      ],
      "metadata": {
        "trusted": true,
        "execution": {
          "iopub.status.busy": "2025-04-29T16:06:00.687042Z",
          "iopub.execute_input": "2025-04-29T16:06:00.687315Z",
          "iopub.status.idle": "2025-04-29T16:06:00.750127Z",
          "shell.execute_reply.started": "2025-04-29T16:06:00.687297Z",
          "shell.execute_reply": "2025-04-29T16:06:00.749201Z"
        },
        "id": "Go1hkWrpnHAX"
      },
      "outputs": [],
      "execution_count": null
    },
    {
      "cell_type": "code",
      "source": [
        "# Now that cross validation has completed, we can see what it estimates the peformance\n",
        "# of our model to be.\n",
        "\n",
        "display(cv_results)\n",
        "print(\"The mean CV score is:\")\n",
        "print(np.mean(cv_results['test_score']))"
      ],
      "metadata": {
        "trusted": true,
        "execution": {
          "iopub.status.busy": "2025-04-29T16:06:01.312298Z",
          "iopub.execute_input": "2025-04-29T16:06:01.313153Z",
          "iopub.status.idle": "2025-04-29T16:06:01.320161Z",
          "shell.execute_reply.started": "2025-04-29T16:06:01.313125Z",
          "shell.execute_reply": "2025-04-29T16:06:01.319388Z"
        },
        "id": "G4o7OqSrnHAY"
      },
      "outputs": [],
      "execution_count": null
    },
    {
      "cell_type": "markdown",
      "source": [
        "\n",
        "Once we are happy with the estimated performance of our model, we can move on to the final step.\n",
        "\n",
        "First, we train our model one last time, using all available training data (unlike CV, which always uses a subset). This final training will give our model the best chance as the highest performance.\n",
        "\n",
        "Then, we must load in the (unlabeled) competition data from the cloud and use our model to generate predictions for each instance in that data. We will then output those predictions to a CSV file and upload it to the competition."
      ],
      "metadata": {
        "id": "9Q5m6MG1nHAY"
      }
    },
    {
      "cell_type": "code",
      "source": [
        "# Our model's \"final form\"\n",
        "\n",
        "clf = clf.fit(X, y)"
      ],
      "metadata": {
        "trusted": true,
        "execution": {
          "iopub.status.busy": "2025-04-29T16:06:06.162252Z",
          "iopub.execute_input": "2025-04-29T16:06:06.162595Z",
          "iopub.status.idle": "2025-04-29T16:06:06.17633Z",
          "shell.execute_reply.started": "2025-04-29T16:06:06.162572Z",
          "shell.execute_reply": "2025-04-29T16:06:06.175405Z"
        },
        "id": "80VOLioynHAY"
      },
      "outputs": [],
      "execution_count": null
    },
    {
      "cell_type": "code",
      "source": [
        "X_comp = pd.read_csv(\"https://raw.githubusercontent.com/stepthom/869_course/refs/heads/main/data/spaceship_titanic_test.csv\")\n",
        "\n",
        "# Will need to save these IDs for later\n",
        "passengerIDs = X_comp[\"PassengerId\"]\n",
        "\n",
        "# Importantly, we need to perform the same cleaning/transformation steps\n",
        "# on this competition data as you did the training data. Otherwise, we will\n",
        "# get an error and/or unexpected results.\n",
        "\n",
        "X_comp = X_comp.drop(['PassengerId'], axis=1, errors='ignore')\n",
        "X_comp = X_comp.drop(categorical_features, axis=1, errors='ignore')\n",
        "\n",
        "X_comp = imp.transform(X_comp)\n",
        "\n",
        "# Use your model to make predictions\n",
        "pred_comp = clf.predict(X_comp)\n",
        "\n",
        "# Create a simple dataframe with two columns: the passenger ID (just the same as the test data) and our predictions\n",
        "my_submission = pd.DataFrame({\n",
        "    'PassengerId': passengerIDs,\n",
        "    'Transported': pred_comp})\n",
        "\n",
        "# Let's take a peak at the results (as a sanity check)\n",
        "display(my_submission.head(10))\n",
        "\n",
        "# You could use any filename.\n",
        "my_submission.to_csv('submission.csv', index=False)\n",
        "\n",
        "# You can now download the 'submission.csv' from Colab/Kaggle (see menu on the left or right)"
      ],
      "metadata": {
        "trusted": true,
        "execution": {
          "iopub.status.busy": "2025-04-29T16:08:03.471203Z",
          "iopub.execute_input": "2025-04-29T16:08:03.472079Z",
          "iopub.status.idle": "2025-04-29T16:08:03.537723Z",
          "shell.execute_reply.started": "2025-04-29T16:08:03.472053Z",
          "shell.execute_reply": "2025-04-29T16:08:03.536891Z"
        },
        "id": "ka2cNkdSnHAY"
      },
      "outputs": [],
      "execution_count": null
    },
    {
      "cell_type": "code",
      "source": [],
      "metadata": {
        "trusted": true,
        "id": "DmnsyoSUnHAY"
      },
      "outputs": [],
      "execution_count": null
    }
  ]
}
