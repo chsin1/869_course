{
  "cells": [
    {
      "cell_type": "markdown",
      "metadata": {
        "id": "view-in-github",
        "colab_type": "text"
      },
      "source": [
        "<a href=\"https://colab.research.google.com/github/chsin1/869_course/blob/main/Session_5_Learning_The_Black_Scholes_Option_Pricing.ipynb\" target=\"_parent\"><img src=\"https://colab.research.google.com/assets/colab-badge.svg\" alt=\"Open In Colab\"/></a>"
      ]
    },
    {
      "cell_type": "markdown",
      "metadata": {
        "id": "CSa5UoUj24cv"
      },
      "source": [
        "#Problem"
      ]
    },
    {
      "cell_type": "markdown",
      "metadata": {
        "id": "2OmjDskh3p3_"
      },
      "source": [
        "IN this example, we use NN to find the Black-Scholes options.  To train the model, we generate 10,000 call option prices with various parameters (randomly samples).\n",
        "\n",
        "To make it more realistic, we add noise to the prices.\n",
        "\n",
        "![image.png](data:image/png;base64,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)"
      ]
    },
    {
      "cell_type": "markdown",
      "metadata": {
        "id": "vdqyQ0pl4iMH"
      },
      "source": [
        "# Load package"
      ]
    },
    {
      "cell_type": "code",
      "execution_count": null,
      "metadata": {
        "id": "1cqeGqOL2m_L"
      },
      "outputs": [],
      "source": [
        "\n",
        "import numpy as np\n",
        "from scipy.stats import norm\n",
        "import random\n",
        "import matplotlib.pyplot as plt\n",
        "import numpy as np\n",
        "import pandas as pd\n",
        "\n",
        "\n",
        "from sklearn.model_selection import train_test_split\n",
        "from sklearn.linear_model import LinearRegression\n",
        "from sklearn.metrics import mean_squared_error\n",
        "from sklearn.preprocessing import StandardScaler\n",
        "\n",
        "\n",
        "import tensorflow as tf\n",
        "from tensorflow.keras.layers import Dense\n",
        "from tensorflow import keras\n",
        "\n",
        "from numpy.random import seed\n",
        "seed(100)\n",
        "\n",
        "\n",
        "import matplotlib.pyplot as plt\n",
        "from IPython.display import clear_output\n",
        "\n",
        "n = norm.pdf\n",
        "N = norm.cdf"
      ]
    },
    {
      "cell_type": "markdown",
      "metadata": {
        "id": "Zg08q7I_4sxA"
      },
      "source": [
        "## Load the data"
      ]
    },
    {
      "cell_type": "code",
      "execution_count": null,
      "metadata": {
        "colab": {
          "base_uri": "https://localhost:8080/",
          "height": 223
        },
        "id": "ksT1d3xF4wnh",
        "outputId": "c8645f30-8bc7-4b61-b76c-64a2318ac862"
      },
      "outputs": [
        {
          "output_type": "stream",
          "name": "stdout",
          "text": [
            "Mounted at /content/drive\n"
          ]
        },
        {
          "output_type": "execute_result",
          "data": {
            "text/plain": [
              "   Spot price  Strike Price  Risk Free Rate  Volatility  Maturity  Dividend  \\\n",
              "0       55.84        72.592           0.013       0.276      1.78         0   \n",
              "1       57.96        34.776           0.033       0.171      0.85         0   \n",
              "2       43.70        52.440           0.041       0.262      1.19         0   \n",
              "3       54.44        65.328           0.041       0.289      1.63         0   \n",
              "4       53.42        58.762           0.037       0.322      1.20         0   \n",
              "\n",
              "   Option Price     Noise  Option Price with Noise  \n",
              "0      3.569203 -0.262465                 3.306738  \n",
              "1     24.146475  0.051402                24.197877  \n",
              "2      2.764509  0.172955                 2.937464  \n",
              "3      5.529263 -0.037865                 5.491398  \n",
              "4      6.357704  0.147198                 6.504902  "
            ],
            "text/html": [
              "\n",
              "  <div id=\"df-a907bd3e-3438-473c-89a2-ce01af0093ba\" class=\"colab-df-container\">\n",
              "    <div>\n",
              "<style scoped>\n",
              "    .dataframe tbody tr th:only-of-type {\n",
              "        vertical-align: middle;\n",
              "    }\n",
              "\n",
              "    .dataframe tbody tr th {\n",
              "        vertical-align: top;\n",
              "    }\n",
              "\n",
              "    .dataframe thead th {\n",
              "        text-align: right;\n",
              "    }\n",
              "</style>\n",
              "<table border=\"1\" class=\"dataframe\">\n",
              "  <thead>\n",
              "    <tr style=\"text-align: right;\">\n",
              "      <th></th>\n",
              "      <th>Spot price</th>\n",
              "      <th>Strike Price</th>\n",
              "      <th>Risk Free Rate</th>\n",
              "      <th>Volatility</th>\n",
              "      <th>Maturity</th>\n",
              "      <th>Dividend</th>\n",
              "      <th>Option Price</th>\n",
              "      <th>Noise</th>\n",
              "      <th>Option Price with Noise</th>\n",
              "    </tr>\n",
              "  </thead>\n",
              "  <tbody>\n",
              "    <tr>\n",
              "      <th>0</th>\n",
              "      <td>55.84</td>\n",
              "      <td>72.592</td>\n",
              "      <td>0.013</td>\n",
              "      <td>0.276</td>\n",
              "      <td>1.78</td>\n",
              "      <td>0</td>\n",
              "      <td>3.569203</td>\n",
              "      <td>-0.262465</td>\n",
              "      <td>3.306738</td>\n",
              "    </tr>\n",
              "    <tr>\n",
              "      <th>1</th>\n",
              "      <td>57.96</td>\n",
              "      <td>34.776</td>\n",
              "      <td>0.033</td>\n",
              "      <td>0.171</td>\n",
              "      <td>0.85</td>\n",
              "      <td>0</td>\n",
              "      <td>24.146475</td>\n",
              "      <td>0.051402</td>\n",
              "      <td>24.197877</td>\n",
              "    </tr>\n",
              "    <tr>\n",
              "      <th>2</th>\n",
              "      <td>43.70</td>\n",
              "      <td>52.440</td>\n",
              "      <td>0.041</td>\n",
              "      <td>0.262</td>\n",
              "      <td>1.19</td>\n",
              "      <td>0</td>\n",
              "      <td>2.764509</td>\n",
              "      <td>0.172955</td>\n",
              "      <td>2.937464</td>\n",
              "    </tr>\n",
              "    <tr>\n",
              "      <th>3</th>\n",
              "      <td>54.44</td>\n",
              "      <td>65.328</td>\n",
              "      <td>0.041</td>\n",
              "      <td>0.289</td>\n",
              "      <td>1.63</td>\n",
              "      <td>0</td>\n",
              "      <td>5.529263</td>\n",
              "      <td>-0.037865</td>\n",
              "      <td>5.491398</td>\n",
              "    </tr>\n",
              "    <tr>\n",
              "      <th>4</th>\n",
              "      <td>53.42</td>\n",
              "      <td>58.762</td>\n",
              "      <td>0.037</td>\n",
              "      <td>0.322</td>\n",
              "      <td>1.20</td>\n",
              "      <td>0</td>\n",
              "      <td>6.357704</td>\n",
              "      <td>0.147198</td>\n",
              "      <td>6.504902</td>\n",
              "    </tr>\n",
              "  </tbody>\n",
              "</table>\n",
              "</div>\n",
              "    <div class=\"colab-df-buttons\">\n",
              "\n",
              "  <div class=\"colab-df-container\">\n",
              "    <button class=\"colab-df-convert\" onclick=\"convertToInteractive('df-a907bd3e-3438-473c-89a2-ce01af0093ba')\"\n",
              "            title=\"Convert this dataframe to an interactive table.\"\n",
              "            style=\"display:none;\">\n",
              "\n",
              "  <svg xmlns=\"http://www.w3.org/2000/svg\" height=\"24px\" viewBox=\"0 -960 960 960\">\n",
              "    <path d=\"M120-120v-720h720v720H120Zm60-500h600v-160H180v160Zm220 220h160v-160H400v160Zm0 220h160v-160H400v160ZM180-400h160v-160H180v160Zm440 0h160v-160H620v160ZM180-180h160v-160H180v160Zm440 0h160v-160H620v160Z\"/>\n",
              "  </svg>\n",
              "    </button>\n",
              "\n",
              "  <style>\n",
              "    .colab-df-container {\n",
              "      display:flex;\n",
              "      gap: 12px;\n",
              "    }\n",
              "\n",
              "    .colab-df-convert {\n",
              "      background-color: #E8F0FE;\n",
              "      border: none;\n",
              "      border-radius: 50%;\n",
              "      cursor: pointer;\n",
              "      display: none;\n",
              "      fill: #1967D2;\n",
              "      height: 32px;\n",
              "      padding: 0 0 0 0;\n",
              "      width: 32px;\n",
              "    }\n",
              "\n",
              "    .colab-df-convert:hover {\n",
              "      background-color: #E2EBFA;\n",
              "      box-shadow: 0px 1px 2px rgba(60, 64, 67, 0.3), 0px 1px 3px 1px rgba(60, 64, 67, 0.15);\n",
              "      fill: #174EA6;\n",
              "    }\n",
              "\n",
              "    .colab-df-buttons div {\n",
              "      margin-bottom: 4px;\n",
              "    }\n",
              "\n",
              "    [theme=dark] .colab-df-convert {\n",
              "      background-color: #3B4455;\n",
              "      fill: #D2E3FC;\n",
              "    }\n",
              "\n",
              "    [theme=dark] .colab-df-convert:hover {\n",
              "      background-color: #434B5C;\n",
              "      box-shadow: 0px 1px 3px 1px rgba(0, 0, 0, 0.15);\n",
              "      filter: drop-shadow(0px 1px 2px rgba(0, 0, 0, 0.3));\n",
              "      fill: #FFFFFF;\n",
              "    }\n",
              "  </style>\n",
              "\n",
              "    <script>\n",
              "      const buttonEl =\n",
              "        document.querySelector('#df-a907bd3e-3438-473c-89a2-ce01af0093ba button.colab-df-convert');\n",
              "      buttonEl.style.display =\n",
              "        google.colab.kernel.accessAllowed ? 'block' : 'none';\n",
              "\n",
              "      async function convertToInteractive(key) {\n",
              "        const element = document.querySelector('#df-a907bd3e-3438-473c-89a2-ce01af0093ba');\n",
              "        const dataTable =\n",
              "          await google.colab.kernel.invokeFunction('convertToInteractive',\n",
              "                                                    [key], {});\n",
              "        if (!dataTable) return;\n",
              "\n",
              "        const docLinkHtml = 'Like what you see? Visit the ' +\n",
              "          '<a target=\"_blank\" href=https://colab.research.google.com/notebooks/data_table.ipynb>data table notebook</a>'\n",
              "          + ' to learn more about interactive tables.';\n",
              "        element.innerHTML = '';\n",
              "        dataTable['output_type'] = 'display_data';\n",
              "        await google.colab.output.renderOutput(dataTable, element);\n",
              "        const docLink = document.createElement('div');\n",
              "        docLink.innerHTML = docLinkHtml;\n",
              "        element.appendChild(docLink);\n",
              "      }\n",
              "    </script>\n",
              "  </div>\n",
              "\n",
              "\n",
              "<div id=\"df-15e36437-1cfa-4ff2-a213-b2223fe21239\">\n",
              "  <button class=\"colab-df-quickchart\" onclick=\"quickchart('df-15e36437-1cfa-4ff2-a213-b2223fe21239')\"\n",
              "            title=\"Suggest charts\"\n",
              "            style=\"display:none;\">\n",
              "\n",
              "<svg xmlns=\"http://www.w3.org/2000/svg\" height=\"24px\"viewBox=\"0 0 24 24\"\n",
              "     width=\"24px\">\n",
              "    <g>\n",
              "        <path d=\"M19 3H5c-1.1 0-2 .9-2 2v14c0 1.1.9 2 2 2h14c1.1 0 2-.9 2-2V5c0-1.1-.9-2-2-2zM9 17H7v-7h2v7zm4 0h-2V7h2v10zm4 0h-2v-4h2v4z\"/>\n",
              "    </g>\n",
              "</svg>\n",
              "  </button>\n",
              "\n",
              "<style>\n",
              "  .colab-df-quickchart {\n",
              "      --bg-color: #E8F0FE;\n",
              "      --fill-color: #1967D2;\n",
              "      --hover-bg-color: #E2EBFA;\n",
              "      --hover-fill-color: #174EA6;\n",
              "      --disabled-fill-color: #AAA;\n",
              "      --disabled-bg-color: #DDD;\n",
              "  }\n",
              "\n",
              "  [theme=dark] .colab-df-quickchart {\n",
              "      --bg-color: #3B4455;\n",
              "      --fill-color: #D2E3FC;\n",
              "      --hover-bg-color: #434B5C;\n",
              "      --hover-fill-color: #FFFFFF;\n",
              "      --disabled-bg-color: #3B4455;\n",
              "      --disabled-fill-color: #666;\n",
              "  }\n",
              "\n",
              "  .colab-df-quickchart {\n",
              "    background-color: var(--bg-color);\n",
              "    border: none;\n",
              "    border-radius: 50%;\n",
              "    cursor: pointer;\n",
              "    display: none;\n",
              "    fill: var(--fill-color);\n",
              "    height: 32px;\n",
              "    padding: 0;\n",
              "    width: 32px;\n",
              "  }\n",
              "\n",
              "  .colab-df-quickchart:hover {\n",
              "    background-color: var(--hover-bg-color);\n",
              "    box-shadow: 0 1px 2px rgba(60, 64, 67, 0.3), 0 1px 3px 1px rgba(60, 64, 67, 0.15);\n",
              "    fill: var(--button-hover-fill-color);\n",
              "  }\n",
              "\n",
              "  .colab-df-quickchart-complete:disabled,\n",
              "  .colab-df-quickchart-complete:disabled:hover {\n",
              "    background-color: var(--disabled-bg-color);\n",
              "    fill: var(--disabled-fill-color);\n",
              "    box-shadow: none;\n",
              "  }\n",
              "\n",
              "  .colab-df-spinner {\n",
              "    border: 2px solid var(--fill-color);\n",
              "    border-color: transparent;\n",
              "    border-bottom-color: var(--fill-color);\n",
              "    animation:\n",
              "      spin 1s steps(1) infinite;\n",
              "  }\n",
              "\n",
              "  @keyframes spin {\n",
              "    0% {\n",
              "      border-color: transparent;\n",
              "      border-bottom-color: var(--fill-color);\n",
              "      border-left-color: var(--fill-color);\n",
              "    }\n",
              "    20% {\n",
              "      border-color: transparent;\n",
              "      border-left-color: var(--fill-color);\n",
              "      border-top-color: var(--fill-color);\n",
              "    }\n",
              "    30% {\n",
              "      border-color: transparent;\n",
              "      border-left-color: var(--fill-color);\n",
              "      border-top-color: var(--fill-color);\n",
              "      border-right-color: var(--fill-color);\n",
              "    }\n",
              "    40% {\n",
              "      border-color: transparent;\n",
              "      border-right-color: var(--fill-color);\n",
              "      border-top-color: var(--fill-color);\n",
              "    }\n",
              "    60% {\n",
              "      border-color: transparent;\n",
              "      border-right-color: var(--fill-color);\n",
              "    }\n",
              "    80% {\n",
              "      border-color: transparent;\n",
              "      border-right-color: var(--fill-color);\n",
              "      border-bottom-color: var(--fill-color);\n",
              "    }\n",
              "    90% {\n",
              "      border-color: transparent;\n",
              "      border-bottom-color: var(--fill-color);\n",
              "    }\n",
              "  }\n",
              "</style>\n",
              "\n",
              "  <script>\n",
              "    async function quickchart(key) {\n",
              "      const quickchartButtonEl =\n",
              "        document.querySelector('#' + key + ' button');\n",
              "      quickchartButtonEl.disabled = true;  // To prevent multiple clicks.\n",
              "      quickchartButtonEl.classList.add('colab-df-spinner');\n",
              "      try {\n",
              "        const charts = await google.colab.kernel.invokeFunction(\n",
              "            'suggestCharts', [key], {});\n",
              "      } catch (error) {\n",
              "        console.error('Error during call to suggestCharts:', error);\n",
              "      }\n",
              "      quickchartButtonEl.classList.remove('colab-df-spinner');\n",
              "      quickchartButtonEl.classList.add('colab-df-quickchart-complete');\n",
              "    }\n",
              "    (() => {\n",
              "      let quickchartButtonEl =\n",
              "        document.querySelector('#df-15e36437-1cfa-4ff2-a213-b2223fe21239 button');\n",
              "      quickchartButtonEl.style.display =\n",
              "        google.colab.kernel.accessAllowed ? 'block' : 'none';\n",
              "    })();\n",
              "  </script>\n",
              "</div>\n",
              "\n",
              "    </div>\n",
              "  </div>\n"
            ],
            "application/vnd.google.colaboratory.intrinsic+json": {
              "type": "dataframe",
              "variable_name": "option_dataset",
              "summary": "{\n  \"name\": \"option_dataset\",\n  \"rows\": 10000,\n  \"fields\": [\n    {\n      \"column\": \"Spot price\",\n      \"properties\": {\n        \"dtype\": \"number\",\n        \"std\": 5.7565166544582445,\n        \"min\": 40.0,\n        \"max\": 59.99,\n        \"num_unique_values\": 1990,\n        \"samples\": [\n          51.47,\n          47.74,\n          48.0\n        ],\n        \"semantic_type\": \"\",\n        \"description\": \"\"\n      }\n    },\n    {\n      \"column\": \"Strike Price\",\n      \"properties\": {\n        \"dtype\": \"number\",\n        \"std\": 15.503119769740788,\n        \"min\": 20.005,\n        \"max\": 83.972,\n        \"num_unique_values\": 7438,\n        \"samples\": [\n          36.808,\n          36.589,\n          50.922\n        ],\n        \"semantic_type\": \"\",\n        \"description\": \"\"\n      }\n    },\n    {\n      \"column\": \"Risk Free Rate\",\n      \"properties\": {\n        \"dtype\": \"number\",\n        \"std\": 0.014473418660937447,\n        \"min\": 0.0,\n        \"max\": 0.049,\n        \"num_unique_values\": 50,\n        \"samples\": [\n          0.011,\n          0.007,\n          0.024\n        ],\n        \"semantic_type\": \"\",\n        \"description\": \"\"\n      }\n    },\n    {\n      \"column\": \"Volatility\",\n      \"properties\": {\n        \"dtype\": \"number\",\n        \"std\": 0.08611405967016757,\n        \"min\": 0.1,\n        \"max\": 0.399,\n        \"num_unique_values\": 300,\n        \"samples\": [\n          0.33,\n          0.156,\n          0.129\n        ],\n        \"semantic_type\": \"\",\n        \"description\": \"\"\n      }\n    },\n    {\n      \"column\": \"Maturity\",\n      \"properties\": {\n        \"dtype\": \"number\",\n        \"std\": 0.5073077079160655,\n        \"min\": 0.25,\n        \"max\": 1.99,\n        \"num_unique_values\": 175,\n        \"samples\": [\n          1.48,\n          1.32,\n          0.94\n        ],\n        \"semantic_type\": \"\",\n        \"description\": \"\"\n      }\n    },\n    {\n      \"column\": \"Dividend\",\n      \"properties\": {\n        \"dtype\": \"number\",\n        \"std\": 0,\n        \"min\": 0,\n        \"max\": 0,\n        \"num_unique_values\": 1,\n        \"samples\": [\n          0\n        ],\n        \"semantic_type\": \"\",\n        \"description\": \"\"\n      }\n    },\n    {\n      \"column\": \"Option Price\",\n      \"properties\": {\n        \"dtype\": \"number\",\n        \"std\": 8.488672961751336,\n        \"min\": 4.21e-11,\n        \"max\": 32.37349956,\n        \"num_unique_values\": 10000,\n        \"samples\": [\n          14.19128969\n        ],\n        \"semantic_type\": \"\",\n        \"description\": \"\"\n      }\n    },\n    {\n      \"column\": \"Noise\",\n      \"properties\": {\n        \"dtype\": \"number\",\n        \"std\": 0.15095200098253428,\n        \"min\": -0.495012056,\n        \"max\": 0.578690951,\n        \"num_unique_values\": 10000,\n        \"samples\": [\n          -0.152136426\n        ],\n        \"semantic_type\": \"\",\n        \"description\": \"\"\n      }\n    },\n    {\n      \"column\": \"Option Price with Noise\",\n      \"properties\": {\n        \"dtype\": \"number\",\n        \"std\": 8.488650975878693,\n        \"min\": 0.0,\n        \"max\": 32.37491794,\n        \"num_unique_values\": 9762,\n        \"samples\": [\n          5.337090293\n        ],\n        \"semantic_type\": \"\",\n        \"description\": \"\"\n      }\n    }\n  ]\n}"
            }
          },
          "metadata": {},
          "execution_count": 2
        }
      ],
      "source": [
        "from google.colab import drive\n",
        "drive.mount('/content/drive')\n",
        "\n",
        "option_dataset=pd.read_csv('/content/drive/MyDrive/Colab Notebooks/Datasets/Option_Data.csv')\n",
        "option_dataset.head()"
      ]
    },
    {
      "cell_type": "code",
      "execution_count": null,
      "metadata": {
        "id": "YBSkYeUdaoCu"
      },
      "outputs": [],
      "source": []
    },
    {
      "cell_type": "code",
      "execution_count": null,
      "metadata": {
        "id": "AQa-YGvleggC"
      },
      "outputs": [],
      "source": []
    },
    {
      "cell_type": "code",
      "execution_count": null,
      "metadata": {
        "id": "1Zs6mNsnaiuD"
      },
      "outputs": [],
      "source": []
    },
    {
      "cell_type": "markdown",
      "metadata": {
        "id": "s-CT1zvS5a4a"
      },
      "source": [
        "##Divide data into Training, Validation and Test set"
      ]
    },
    {
      "cell_type": "code",
      "execution_count": null,
      "metadata": {
        "id": "foE2BkVg5EhL"
      },
      "outputs": [],
      "source": [
        "# Include option price with and without noise in data set splitting for later BS mean error calculation on test set\n",
        "y = option_dataset[['Option Price with Noise','Option Price']]\n",
        "X = option_dataset[['Spot price', 'Strike Price', 'Risk Free Rate','Volatility','Maturity','Dividend']]\n",
        "\n",
        "# Divide data into training set and test set(note that random seed is set)\n",
        "X_train,X_test,y_train,y_test=train_test_split(X,y,test_size=0.2,random_state=100)\n",
        "\n",
        "# Divide training set into training and validation set\n",
        "X_train,X_val,y_train,y_val=train_test_split(X_train,y_train,test_size=0.25,random_state=100)"
      ]
    },
    {
      "cell_type": "markdown",
      "metadata": {
        "id": "e5D8Y_gF5jaB"
      },
      "source": [
        "## Feature Scaling"
      ]
    },
    {
      "cell_type": "code",
      "execution_count": null,
      "metadata": {
        "id": "yPYisDB45f3A"
      },
      "outputs": [],
      "source": [
        "# Scale features based on Z-Score\n",
        "scaler = StandardScaler()\n",
        "scaler.fit(X_train)\n",
        "\n",
        "\n",
        "X_scaled_train = scaler.transform(X_train)\n",
        "X_scaled_vals = scaler.transform(X_val)\n",
        "X_scaled_test = scaler.transform(X_test)\n",
        "y_train = np.asarray(y_train)\n",
        "y_val = np.asarray(y_val)\n",
        "y_test = np.asarray(y_test)"
      ]
    },
    {
      "cell_type": "markdown",
      "metadata": {
        "id": "PrZFrTh95sw_"
      },
      "source": [
        "##Define Neural Network\n",
        "There are 6 features\n",
        "* Spot price\n",
        "* Strike Price\n",
        "* Risk Free Rate\n",
        "* Volatility\n",
        "* Maturity\n",
        "* Dividend\n",
        "\n",
        "We use three hidden layers, and each layer has 20 nurons. Assume they are densely connected"
      ]
    },
    {
      "cell_type": "code",
      "execution_count": null,
      "metadata": {
        "colab": {
          "base_uri": "https://localhost:8080/",
          "height": 292
        },
        "id": "bEFTvgnk5qlL",
        "outputId": "a9ee8077-b274-465c-a255-5326f3bc223a"
      },
      "outputs": [
        {
          "output_type": "stream",
          "name": "stderr",
          "text": [
            "/usr/local/lib/python3.11/dist-packages/keras/src/layers/core/dense.py:87: UserWarning: Do not pass an `input_shape`/`input_dim` argument to a layer. When using Sequential models, prefer using an `Input(shape)` object as the first layer in the model instead.\n",
            "  super().__init__(activity_regularizer=activity_regularizer, **kwargs)\n"
          ]
        },
        {
          "output_type": "display_data",
          "data": {
            "text/plain": [
              "\u001b[1mModel: \"sequential\"\u001b[0m\n"
            ],
            "text/html": [
              "<pre style=\"white-space:pre;overflow-x:auto;line-height:normal;font-family:Menlo,'DejaVu Sans Mono',consolas,'Courier New',monospace\"><span style=\"font-weight: bold\">Model: \"sequential\"</span>\n",
              "</pre>\n"
            ]
          },
          "metadata": {}
        },
        {
          "output_type": "display_data",
          "data": {
            "text/plain": [
              "┏━━━━━━━━━━━━━━━━━━━━━━━━━━━━━━━━━━━━━━┳━━━━━━━━━━━━━━━━━━━━━━━━━━━━━┳━━━━━━━━━━━━━━━━━┓\n",
              "┃\u001b[1m \u001b[0m\u001b[1mLayer (type)                        \u001b[0m\u001b[1m \u001b[0m┃\u001b[1m \u001b[0m\u001b[1mOutput Shape               \u001b[0m\u001b[1m \u001b[0m┃\u001b[1m \u001b[0m\u001b[1m        Param #\u001b[0m\u001b[1m \u001b[0m┃\n",
              "┡━━━━━━━━━━━━━━━━━━━━━━━━━━━━━━━━━━━━━━╇━━━━━━━━━━━━━━━━━━━━━━━━━━━━━╇━━━━━━━━━━━━━━━━━┩\n",
              "│ dense (\u001b[38;5;33mDense\u001b[0m)                        │ (\u001b[38;5;45mNone\u001b[0m, \u001b[38;5;34m20\u001b[0m)                  │             \u001b[38;5;34m140\u001b[0m │\n",
              "├──────────────────────────────────────┼─────────────────────────────┼─────────────────┤\n",
              "│ dense_1 (\u001b[38;5;33mDense\u001b[0m)                      │ (\u001b[38;5;45mNone\u001b[0m, \u001b[38;5;34m20\u001b[0m)                  │             \u001b[38;5;34m420\u001b[0m │\n",
              "├──────────────────────────────────────┼─────────────────────────────┼─────────────────┤\n",
              "│ dense_2 (\u001b[38;5;33mDense\u001b[0m)                      │ (\u001b[38;5;45mNone\u001b[0m, \u001b[38;5;34m20\u001b[0m)                  │             \u001b[38;5;34m420\u001b[0m │\n",
              "├──────────────────────────────────────┼─────────────────────────────┼─────────────────┤\n",
              "│ dense_3 (\u001b[38;5;33mDense\u001b[0m)                      │ (\u001b[38;5;45mNone\u001b[0m, \u001b[38;5;34m1\u001b[0m)                   │              \u001b[38;5;34m21\u001b[0m │\n",
              "└──────────────────────────────────────┴─────────────────────────────┴─────────────────┘\n"
            ],
            "text/html": [
              "<pre style=\"white-space:pre;overflow-x:auto;line-height:normal;font-family:Menlo,'DejaVu Sans Mono',consolas,'Courier New',monospace\">┏━━━━━━━━━━━━━━━━━━━━━━━━━━━━━━━━━━━━━━┳━━━━━━━━━━━━━━━━━━━━━━━━━━━━━┳━━━━━━━━━━━━━━━━━┓\n",
              "┃<span style=\"font-weight: bold\"> Layer (type)                         </span>┃<span style=\"font-weight: bold\"> Output Shape                </span>┃<span style=\"font-weight: bold\">         Param # </span>┃\n",
              "┡━━━━━━━━━━━━━━━━━━━━━━━━━━━━━━━━━━━━━━╇━━━━━━━━━━━━━━━━━━━━━━━━━━━━━╇━━━━━━━━━━━━━━━━━┩\n",
              "│ dense (<span style=\"color: #0087ff; text-decoration-color: #0087ff\">Dense</span>)                        │ (<span style=\"color: #00d7ff; text-decoration-color: #00d7ff\">None</span>, <span style=\"color: #00af00; text-decoration-color: #00af00\">20</span>)                  │             <span style=\"color: #00af00; text-decoration-color: #00af00\">140</span> │\n",
              "├──────────────────────────────────────┼─────────────────────────────┼─────────────────┤\n",
              "│ dense_1 (<span style=\"color: #0087ff; text-decoration-color: #0087ff\">Dense</span>)                      │ (<span style=\"color: #00d7ff; text-decoration-color: #00d7ff\">None</span>, <span style=\"color: #00af00; text-decoration-color: #00af00\">20</span>)                  │             <span style=\"color: #00af00; text-decoration-color: #00af00\">420</span> │\n",
              "├──────────────────────────────────────┼─────────────────────────────┼─────────────────┤\n",
              "│ dense_2 (<span style=\"color: #0087ff; text-decoration-color: #0087ff\">Dense</span>)                      │ (<span style=\"color: #00d7ff; text-decoration-color: #00d7ff\">None</span>, <span style=\"color: #00af00; text-decoration-color: #00af00\">20</span>)                  │             <span style=\"color: #00af00; text-decoration-color: #00af00\">420</span> │\n",
              "├──────────────────────────────────────┼─────────────────────────────┼─────────────────┤\n",
              "│ dense_3 (<span style=\"color: #0087ff; text-decoration-color: #0087ff\">Dense</span>)                      │ (<span style=\"color: #00d7ff; text-decoration-color: #00d7ff\">None</span>, <span style=\"color: #00af00; text-decoration-color: #00af00\">1</span>)                   │              <span style=\"color: #00af00; text-decoration-color: #00af00\">21</span> │\n",
              "└──────────────────────────────────────┴─────────────────────────────┴─────────────────┘\n",
              "</pre>\n"
            ]
          },
          "metadata": {}
        },
        {
          "output_type": "display_data",
          "data": {
            "text/plain": [
              "\u001b[1m Total params: \u001b[0m\u001b[38;5;34m1,001\u001b[0m (3.91 KB)\n"
            ],
            "text/html": [
              "<pre style=\"white-space:pre;overflow-x:auto;line-height:normal;font-family:Menlo,'DejaVu Sans Mono',consolas,'Courier New',monospace\"><span style=\"font-weight: bold\"> Total params: </span><span style=\"color: #00af00; text-decoration-color: #00af00\">1,001</span> (3.91 KB)\n",
              "</pre>\n"
            ]
          },
          "metadata": {}
        },
        {
          "output_type": "display_data",
          "data": {
            "text/plain": [
              "\u001b[1m Trainable params: \u001b[0m\u001b[38;5;34m1,001\u001b[0m (3.91 KB)\n"
            ],
            "text/html": [
              "<pre style=\"white-space:pre;overflow-x:auto;line-height:normal;font-family:Menlo,'DejaVu Sans Mono',consolas,'Courier New',monospace\"><span style=\"font-weight: bold\"> Trainable params: </span><span style=\"color: #00af00; text-decoration-color: #00af00\">1,001</span> (3.91 KB)\n",
              "</pre>\n"
            ]
          },
          "metadata": {}
        },
        {
          "output_type": "display_data",
          "data": {
            "text/plain": [
              "\u001b[1m Non-trainable params: \u001b[0m\u001b[38;5;34m0\u001b[0m (0.00 B)\n"
            ],
            "text/html": [
              "<pre style=\"white-space:pre;overflow-x:auto;line-height:normal;font-family:Menlo,'DejaVu Sans Mono',consolas,'Courier New',monospace\"><span style=\"font-weight: bold\"> Non-trainable params: </span><span style=\"color: #00af00; text-decoration-color: #00af00\">0</span> (0.00 B)\n",
              "</pre>\n"
            ]
          },
          "metadata": {}
        }
      ],
      "source": [
        "# Create ML Model\n",
        "# Sequential function allows you to define your Neural Network in sequential order\n",
        "# Within Sequential, use Dense function to define number of nodes, activation function and other related parameters\n",
        "# For more information regrading to activation functoin, please refer to https://keras.io/activations/\n",
        "model = keras.models.Sequential([Dense(20,activation = \"sigmoid\",input_shape = (6,)),\n",
        "                                 Dense(20,activation = \"sigmoid\"),Dense(20,activation = \"sigmoid\"),\n",
        "                                Dense(1)])\n",
        "\n",
        "# Model summary function shows what you created in the model\n",
        "model.summary()"
      ]
    },
    {
      "cell_type": "code",
      "execution_count": null,
      "metadata": {
        "id": "9SQqeKVg6-9w"
      },
      "outputs": [],
      "source": [
        "# Complie function allows you to choose your measure of loss and optimzer\n",
        "# For other optimizer, please refer to https://keras.io/optimizers/\n",
        "model.compile(loss = \"mae\",optimizer = \"Adam\")"
      ]
    },
    {
      "cell_type": "code",
      "execution_count": null,
      "metadata": {
        "id": "WRuGaboV7BuX"
      },
      "outputs": [],
      "source": [
        "# Checkpoint function is used here to periodically save a copy of the model.\n",
        "# Currently it is set to save the best performing model\n",
        "checkpoint_cb = keras.callbacks.ModelCheckpoint(\"bs_pricing_model.keras\",save_best_only = True)\n",
        "\n",
        "# Early stopping allows you to stop your training early if no improvment is shown after cerain period\n",
        "# Currently it is set at if no improvement occured in 5000 epochs, at the stop the model will also revert back to the best weight\n",
        "early_stopping_cb = keras.callbacks.EarlyStopping(patience = 5000,restore_best_weights = True)\n",
        "\n",
        "# Remark: checkpoint could be redundant here as early stopping function can also help restoring to the best weight\n",
        "# We put both here just to illustrate different ways to keep the best model"
      ]
    },
    {
      "cell_type": "markdown",
      "metadata": {
        "id": "mwgqOwum7T97"
      },
      "source": [
        "### Train your model"
      ]
    },
    {
      "cell_type": "code",
      "execution_count": null,
      "metadata": {
        "id": "Fq4WB8q27KrD"
      },
      "outputs": [],
      "source": [
        "\n",
        "# The fit function allows you to train a NN model. Here we have training data, number of epochs, validation data,\n",
        "# and callbacks as input\n",
        "# Callback is an optional parameters that allow you to enable tricks for training such as early stopping and checkpoint\n",
        "\n",
        "# Remarks: Altough we put 50000 epochs here, the model will stop its training once our early stopping criterion is triggered\n",
        "# Also, select the first column of y_train data array, which is the option price with noise column\n",
        "history=model.fit(X_scaled_train,y_train[:,0],epochs= 50000,verbose = 0, validation_data=(X_scaled_vals,y_val[:,0]),\n",
        "                 callbacks=[checkpoint_cb,early_stopping_cb])\n",
        "\n"
      ]
    },
    {
      "cell_type": "markdown",
      "metadata": {
        "id": "-2FBwQFU7Z3R"
      },
      "source": [
        "##Calculate prediction error for both NN and BS analytical *formula*\n",
        "\n",
        "#### Load the best model you saved and calcuate MAE for testing set"
      ]
    },
    {
      "cell_type": "code",
      "execution_count": null,
      "metadata": {
        "id": "KWjqtRbl7PdP",
        "colab": {
          "base_uri": "https://localhost:8080/"
        },
        "outputId": "dd1b2d13-ed0d-4f0b-bff8-eacc7bc9d9ef"
      },
      "outputs": [
        {
          "output_type": "stream",
          "name": "stderr",
          "text": [
            "/usr/local/lib/python3.11/dist-packages/keras/src/saving/saving_lib.py:757: UserWarning: Skipping variable loading for optimizer 'rmsprop', because it has 10 variables whereas the saved optimizer has 18 variables. \n",
            "  saveable.load_own_variables(weights_store.get(inner_path))\n"
          ]
        },
        {
          "output_type": "stream",
          "name": "stdout",
          "text": [
            "Nerual network mean absoluste error on test set: 0.12219071388244629\n"
          ]
        }
      ],
      "source": [
        "\n",
        "\n",
        "model = keras.models.load_model(\"bs_pricing_model.keras\")\n",
        "\n",
        "mae_test = model.evaluate(X_scaled_test,y_test[:,0],verbose=0)\n",
        "\n",
        "print('Nerual network mean absoluste error on test set:', mae_test)"
      ]
    },
    {
      "cell_type": "code",
      "execution_count": null,
      "metadata": {
        "id": "5MfbptmF7xVT",
        "colab": {
          "base_uri": "https://localhost:8080/"
        },
        "outputId": "209dfb1d-a23c-47e8-99dc-f66b98d485e1"
      },
      "outputs": [
        {
          "output_type": "stream",
          "name": "stdout",
          "text": [
            "\u001b[1m63/63\u001b[0m \u001b[32m━━━━━━━━━━━━━━━━━━━━\u001b[0m\u001b[37m\u001b[0m \u001b[1m1s\u001b[0m 6ms/step\n",
            "Black-Scholes Statistics:\n",
            "Mean error on test set: 0.005381285272161474\n",
            "Standard deviation of error on test set: 0.14823355567443214\n",
            " \n",
            "Neural Network Statistics:\n",
            "Mean error on test set vs. option price with noise: -0.010030445885073042\n",
            "Standard deviation of error on test set vs. option price with noise: 0.1541659754973077\n",
            "Mean error on test set vs. BS analytical formula price: -0.004649160612911567\n",
            "Standard deviation of error on test set vs. BS analytical formula price: 0.04477971901936808\n"
          ]
        }
      ],
      "source": [
        "model_prediction = model.predict(X_scaled_test)\n",
        "mean_error = np.average(model_prediction.T - y_test[:,0])\n",
        "std_error = np.std(model_prediction.T - y_test[:,0])\n",
        "\n",
        "mean_error_vs_BS_price = np.average(model_prediction.T - y_test[:,1])\n",
        "std_error_vs_BS_price = np.std(model_prediction.T - y_test[:,1])\n",
        "\n",
        "BS_mean_error = np.average(y_test[:,0] - y_test[:,1])\n",
        "BS_std_error = np.std(y_test[:,0] - y_test[:,1])\n",
        "\n",
        "print('Black-Scholes Statistics:')\n",
        "print('Mean error on test set:',BS_mean_error)\n",
        "print('Standard deviation of error on test set:',BS_std_error)\n",
        "print(\" \")\n",
        "print('Neural Network Statistics:')\n",
        "print('Mean error on test set vs. option price with noise:',mean_error)\n",
        "print('Standard deviation of error on test set vs. option price with noise:',std_error)\n",
        "print('Mean error on test set vs. BS analytical formula price:',mean_error_vs_BS_price)\n",
        "print('Standard deviation of error on test set vs. BS analytical formula price:',std_error_vs_BS_price)\n",
        "\n"
      ]
    },
    {
      "cell_type": "code",
      "execution_count": null,
      "metadata": {
        "id": "iIOi2GcX8GQ4"
      },
      "outputs": [],
      "source": [
        "#Plot the training history"
      ]
    },
    {
      "cell_type": "code",
      "execution_count": null,
      "metadata": {
        "id": "SmjNa7N08JJ0",
        "colab": {
          "base_uri": "https://localhost:8080/",
          "height": 451
        },
        "outputId": "38ebf03c-b804-47ee-9900-7f49b74d7f73"
      },
      "outputs": [
        {
          "output_type": "display_data",
          "data": {
            "text/plain": [
              "<Figure size 800x500 with 1 Axes>"
            ],
            "image/png": "[encoded data removed]"
          },
          "metadata": {}
        }
      ],
      "source": [
        "pd.DataFrame(history.history).plot(figsize=(8,5))\n",
        "plt.grid(True)\n",
        "plt.gca().set_ylim(0.1,0.2)\n",
        "plt.show()\n",
        "\n",
        "#Export your training history for MSE\n",
        "output = pd.DataFrame(history.history)\n",
        "output.to_csv(\"mae_history.csv\")"
      ]
    }
  ],
  "metadata": {
    "colab": {
      "provenance": [],
      "include_colab_link": true
    },
    "kernelspec": {
      "display_name": "Python 3",
      "name": "python3"
    },
    "language_info": {
      "name": "python"
    }
  },
  "nbformat": 4,
  "nbformat_minor": 0
}